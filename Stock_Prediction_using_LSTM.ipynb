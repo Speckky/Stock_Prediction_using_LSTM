{
  "nbformat": 4,
  "nbformat_minor": 0,
  "metadata": {
    "colab": {
      "provenance": [],
      "authorship_tag": "ABX9TyNwb7ZPGIy3VH0aJcDqWjjl",
      "include_colab_link": true
    },
    "kernelspec": {
      "name": "python3",
      "display_name": "Python 3"
    },
    "language_info": {
      "name": "python"
    }
  },
  "cells": [
    {
      "cell_type": "markdown",
      "metadata": {
        "id": "view-in-github",
        "colab_type": "text"
      },
      "source": [
        "<a href=\"https://colab.research.google.com/github/Speckky/Stock_Prediction_using_LSTM/blob/main/Stock_Prediction_using_LSTM.ipynb\" target=\"_parent\"><img src=\"https://colab.research.google.com/assets/colab-badge.svg\" alt=\"Open In Colab\"/></a>"
      ]
    },
    {
      "cell_type": "markdown",
      "source": [
        "*IMPORTING THE LIBRARIES*"
      ],
      "metadata": {
        "id": "OgXXjzZTyC7N"
      }
    },
    {
      "cell_type": "code",
      "execution_count": 1,
      "metadata": {
        "id": "xufAnfORo3k6"
      },
      "outputs": [],
      "source": [
        "import numpy as np\n",
        "import pandas as pd\n",
        "from sklearn.preprocessing import MinMaxScaler\n",
        "from tensorflow.keras.models import Sequential\n",
        "from tensorflow.keras.layers import Dense, LSTM\n",
        "import matplotlib.pyplot as plt\n",
        ""
      ]
    },
    {
      "cell_type": "markdown",
      "source": [
        "*READING THE DATASET*"
      ],
      "metadata": {
        "id": "c0CmhC61yN3I"
      }
    },
    {
      "cell_type": "code",
      "source": [
        "\n",
        "df=pd.read_csv(\"WIPRO.csv\")\n"
      ],
      "metadata": {
        "id": "lDLLh5pZr8NG"
      },
      "execution_count": 2,
      "outputs": []
    },
    {
      "cell_type": "markdown",
      "source": [
        "*EXTRACTING \"CLOSE\" COLUMNS*"
      ],
      "metadata": {
        "id": "jnmf0V3lyShy"
      }
    },
    {
      "cell_type": "code",
      "source": [
        "data = df.filter(['Close'])\n",
        "dataset = data.values\n",
        "training_data_len = int(np.ceil(len(dataset) * 0.8))"
      ],
      "metadata": {
        "id": "-KKFMERcsC8C"
      },
      "execution_count": 3,
      "outputs": []
    },
    {
      "cell_type": "markdown",
      "source": [
        "*SCALING OF DATA*"
      ],
      "metadata": {
        "id": "0MoUbxshyds_"
      }
    },
    {
      "cell_type": "code",
      "source": [
        "scaler = MinMaxScaler(feature_range=(0, 1))\n",
        "scaled_data = scaler.fit_transform(dataset)"
      ],
      "metadata": {
        "id": "PLO5vP2HsGUV"
      },
      "execution_count": 4,
      "outputs": []
    },
    {
      "cell_type": "markdown",
      "source": [
        "*CREATING TRAINING DATASET*"
      ],
      "metadata": {
        "id": "r97MAk_2yi1Y"
      }
    },
    {
      "cell_type": "code",
      "source": [
        "\n",
        "train_data = scaled_data[0:training_data_len, :]\n",
        "x_train = []\n",
        "y_train = []\n",
        ""
      ],
      "metadata": {
        "id": "HLx5j6qjsIvl"
      },
      "execution_count": 5,
      "outputs": []
    },
    {
      "cell_type": "markdown",
      "source": [
        "*REQUIRED FORMAT FOR LSTM(LONG SHORT-TERM MEMORY)*"
      ],
      "metadata": {
        "id": "h15zIz7xyqF3"
      }
    },
    {
      "cell_type": "code",
      "source": [
        "\n",
        "for i in range(60, len(train_data)):\n",
        "    x_train.append(train_data[i - 60:i, 0])\n",
        "    y_train.append(train_data[i, 0])"
      ],
      "metadata": {
        "id": "NZ3tyGvbsNZd"
      },
      "execution_count": 6,
      "outputs": []
    },
    {
      "cell_type": "code",
      "source": [
        "\n",
        "x_train, y_train = np.array(x_train), np.array(y_train)"
      ],
      "metadata": {
        "id": "NXuUzIIksO2s"
      },
      "execution_count": 7,
      "outputs": []
    },
    {
      "cell_type": "code",
      "source": [
        "x_train = np.reshape(x_train, (x_train.shape[0], x_train.shape[1], 1))\n",
        ""
      ],
      "metadata": {
        "id": "8G8sy0vnsTgd"
      },
      "execution_count": 8,
      "outputs": []
    },
    {
      "cell_type": "markdown",
      "source": [
        "*BUILDING MODEL*"
      ],
      "metadata": {
        "id": "BsLRX5kdy3Lv"
      }
    },
    {
      "cell_type": "code",
      "source": [
        "model = Sequential()\n",
        "model.add(LSTM(50, return_sequences=True, input_shape=(x_train.shape[1], 1)))\n",
        "model.add(LSTM(50, return_sequences=False))\n",
        "model.add(Dense(25))\n",
        "model.add(Dense(1))"
      ],
      "metadata": {
        "id": "GfY_HsxhsWg_"
      },
      "execution_count": 9,
      "outputs": []
    },
    {
      "cell_type": "code",
      "source": [
        "model.compile(optimizer='adam', loss='mean_squared_error')"
      ],
      "metadata": {
        "id": "2JvHKTq2sY75"
      },
      "execution_count": 10,
      "outputs": []
    },
    {
      "cell_type": "markdown",
      "source": [
        "*TRAINING THE MODEL*"
      ],
      "metadata": {
        "id": "fPDhIXNAy8GG"
      }
    },
    {
      "cell_type": "code",
      "source": [
        "model.fit(x_train, y_train, batch_size=1, epochs=5)"
      ],
      "metadata": {
        "colab": {
          "base_uri": "https://localhost:8080/"
        },
        "id": "q75uF6wtsc0X",
        "outputId": "9998cb86-d08a-41b6-d596-bc9165d2b8f7"
      },
      "execution_count": 11,
      "outputs": [
        {
          "output_type": "stream",
          "name": "stdout",
          "text": [
            "Epoch 1/5\n",
            "4185/4185 [==============================] - 142s 33ms/step - loss: 2.5535e-04\n",
            "Epoch 2/5\n",
            "4185/4185 [==============================] - 134s 32ms/step - loss: 1.3698e-04\n",
            "Epoch 3/5\n",
            "4185/4185 [==============================] - 134s 32ms/step - loss: 9.5046e-05\n",
            "Epoch 4/5\n",
            "4185/4185 [==============================] - 135s 32ms/step - loss: 8.8501e-05\n",
            "Epoch 5/5\n",
            "4185/4185 [==============================] - 134s 32ms/step - loss: 7.2019e-05\n"
          ]
        },
        {
          "output_type": "execute_result",
          "data": {
            "text/plain": [
              "<keras.callbacks.History at 0x78ec9c599480>"
            ]
          },
          "metadata": {},
          "execution_count": 11
        }
      ]
    },
    {
      "cell_type": "markdown",
      "source": [
        "*CREATING TESTING DATASET*"
      ],
      "metadata": {
        "id": "gDdHOtuqzA62"
      }
    },
    {
      "cell_type": "code",
      "source": [
        "\n",
        "test_data = scaled_data[training_data_len - 60:, :]\n",
        "x_test = []\n",
        "y_test = dataset[training_data_len:, :]\n",
        "for i in range(60, len(test_data)):\n",
        "    x_test.append(test_data[i - 60:i, 0])\n",
        ""
      ],
      "metadata": {
        "id": "chDF7JMNxAkg"
      },
      "execution_count": 12,
      "outputs": []
    },
    {
      "cell_type": "code",
      "source": [
        "x_test = np.array(x_test)\n",
        ""
      ],
      "metadata": {
        "id": "fs__dqmixCSX"
      },
      "execution_count": 13,
      "outputs": []
    },
    {
      "cell_type": "code",
      "source": [
        "x_test = np.reshape(x_test, (x_test.shape[0], x_test.shape[1], 1))"
      ],
      "metadata": {
        "id": "NNxXkF0Oxsxo"
      },
      "execution_count": 14,
      "outputs": []
    },
    {
      "cell_type": "code",
      "source": [
        "\n",
        "predictions = model.predict(x_test)\n",
        "predictions = scaler.inverse_transform(predictions)\n",
        ""
      ],
      "metadata": {
        "colab": {
          "base_uri": "https://localhost:8080/"
        },
        "id": "8SjAvT0gxvdI",
        "outputId": "91c8f5cd-f84d-46c8-d1bb-283d73247dcf"
      },
      "execution_count": 15,
      "outputs": [
        {
          "output_type": "stream",
          "name": "stdout",
          "text": [
            "34/34 [==============================] - 1s 18ms/step\n"
          ]
        }
      ]
    },
    {
      "cell_type": "markdown",
      "source": [
        "*CALCULATING RMSE(ROOT MEAN SQUARE ERROR)*"
      ],
      "metadata": {
        "id": "ElXTMaBZzKzf"
      }
    },
    {
      "cell_type": "code",
      "source": [
        "rmse = np.sqrt(np.mean(predictions - y_test) ** 2)\n",
        "print('Root Mean Squared Error:', rmse)"
      ],
      "metadata": {
        "colab": {
          "base_uri": "https://localhost:8080/"
        },
        "id": "bpVFN1JHxzqO",
        "outputId": "9de279ec-cdce-4e79-86a1-6aeecf05de34"
      },
      "execution_count": 16,
      "outputs": [
        {
          "output_type": "stream",
          "name": "stdout",
          "text": [
            "Root Mean Squared Error: 56.536759822173124\n"
          ]
        }
      ]
    },
    {
      "cell_type": "markdown",
      "source": [
        "*VISUALISING THE DATA*"
      ],
      "metadata": {
        "id": "qwZxfjB-zU3_"
      }
    },
    {
      "cell_type": "code",
      "source": [
        "train = data[:training_data_len]\n",
        "valid = data[training_data_len:]\n",
        "valid['Predictions'] = predictions\n",
        "\n",
        "plt.figure(figsize=(16, 8))\n",
        "plt.title('Stock Price Prediction')\n",
        "plt.xlabel('Date')\n",
        "plt.ylabel('Close Price (USD)')\n",
        "plt.plot(train['Close'])\n",
        "plt.plot(valid[['Close', 'Predictions']])\n",
        "plt.legend(['Train', 'Actual', 'Predicted'], loc='lower right')\n",
        "plt.show()"
      ],
      "metadata": {
        "colab": {
          "base_uri": "https://localhost:8080/",
          "height": 842
        },
        "id": "RPylYG_cx3jW",
        "outputId": "353ec319-2e93-43e2-9d1a-320d055a0dd0"
      },
      "execution_count": 17,
      "outputs": [
        {
          "output_type": "stream",
          "name": "stderr",
          "text": [
            "<ipython-input-17-9b898e984bdd>:3: SettingWithCopyWarning: \n",
            "A value is trying to be set on a copy of a slice from a DataFrame.\n",
            "Try using .loc[row_indexer,col_indexer] = value instead\n",
            "\n",
            "See the caveats in the documentation: https://pandas.pydata.org/pandas-docs/stable/user_guide/indexing.html#returning-a-view-versus-a-copy\n",
            "  valid['Predictions'] = predictions\n"
          ]
        },
        {
          "output_type": "display_data",
          "data": {
            "text/plain": [
              "<Figure size 1600x800 with 1 Axes>"
            ],
            "image/png": "[encoded data removed]"
          },
          "metadata": {}
        }
      ]
    },
    {
      "cell_type": "markdown",
      "source": [
        "*THE END.*"
      ],
      "metadata": {
        "id": "2giO6AZSzZe_"
      }
    }
  ]
}